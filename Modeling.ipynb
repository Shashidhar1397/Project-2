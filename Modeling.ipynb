{
 "cells": [
  {
   "cell_type": "markdown",
   "metadata": {
    "colab_type": "text",
    "id": "nfPoLWMKqIxp"
   },
   "source": [
    "# Predicting the demand of consumable retail products"
   ]
  },
  {
   "cell_type": "code",
   "execution_count": 5,
   "metadata": {
    "colab": {},
    "colab_type": "code",
    "id": "tXWZ4OG9qIxt"
   },
   "outputs": [],
   "source": [
    "#importing all the required libraries\n",
    "import pandas as pd\n",
    "import numpy as np\n",
    "import seaborn as sns\n",
    "import matplotlib\n",
    "import matplotlib.pyplot as plt\n",
    "import warnings\n",
    "import random \n",
    "import xgboost as xgb\n",
    "#!pip install lightgbm\n",
    "import lightgbm as lgb\n",
    "from scipy.stats import skew\n",
    "from scipy import stats\n",
    "from scipy.stats.stats import pearsonr\n",
    "from scipy.stats import norm\n",
    "from collections import Counter\n",
    "from sklearn.linear_model import LinearRegression,LassoCV, Ridge, LassoLarsCV,ElasticNetCV\n",
    "from sklearn.model_selection import GridSearchCV, cross_val_score, learning_curve\n",
    "from sklearn.ensemble import RandomForestRegressor, AdaBoostRegressor, ExtraTreesRegressor, GradientBoostingRegressor\n",
    "from sklearn.preprocessing import StandardScaler, Normalizer, RobustScaler\n",
    "warnings.filterwarnings('ignore')\n",
    "sns.set(style='white', context='notebook', palette='deep')\n",
    "%config InlineBackend.figure_format = 'retina' #set 'png' here when working on notebook\n",
    "%matplotlib inline\n",
    "import os"
   ]
  },
  {
   "cell_type": "code",
   "execution_count": 2,
   "metadata": {
    "colab": {
     "base_uri": "https://localhost:8080/",
     "height": 394
    },
    "colab_type": "code",
    "id": "YBN7ujOnqIx1",
    "outputId": "f081ab45-1032-4c6c-9979-7ef904c9bbd1"
   },
   "outputs": [
    {
     "name": "stdout",
     "output_type": "stream",
     "text": [
      "Go to this URL in a browser: https://accounts.google.com/o/oauth2/auth?client_id=947318989803-6bn6qk8qdgf4n4g3pfee6491hc0brc4i.apps.googleusercontent.com&redirect_uri=urn%3aietf%3awg%3aoauth%3a2.0%3aoob&response_type=code&scope=email%20https%3a%2f%2fwww.googleapis.com%2fauth%2fdocs.test%20https%3a%2f%2fwww.googleapis.com%2fauth%2fdrive%20https%3a%2f%2fwww.googleapis.com%2fauth%2fdrive.photos.readonly%20https%3a%2f%2fwww.googleapis.com%2fauth%2fpeopleapi.readonly\n",
      "\n",
      "Enter your authorization code:\n",
      "··········\n",
      "Mounted at /content/gdrive\n"
     ]
    },
    {
     "data": {
      "text/html": [
       "<div>\n",
       "<style scoped>\n",
       "    .dataframe tbody tr th:only-of-type {\n",
       "        vertical-align: middle;\n",
       "    }\n",
       "\n",
       "    .dataframe tbody tr th {\n",
       "        vertical-align: top;\n",
       "    }\n",
       "\n",
       "    .dataframe thead th {\n",
       "        text-align: right;\n",
       "    }\n",
       "</style>\n",
       "<table border=\"1\" class=\"dataframe\">\n",
       "  <thead>\n",
       "    <tr style=\"text-align: right;\">\n",
       "      <th></th>\n",
       "      <th>experiment_week</th>\n",
       "      <th>channel_type</th>\n",
       "      <th>num_units_sold_in_week</th>\n",
       "      <th>sales_revenue_in_week</th>\n",
       "      <th>num_units_returned</th>\n",
       "      <th>returned_units_revenue_loss</th>\n",
       "      <th>store_identifier</th>\n",
       "      <th>product_identifier</th>\n",
       "      <th>category_of_route</th>\n",
       "      <th>supplier_identifier</th>\n",
       "    </tr>\n",
       "  </thead>\n",
       "  <tbody>\n",
       "    <tr>\n",
       "      <th>0</th>\n",
       "      <td>Week 1 of 2019</td>\n",
       "      <td>Warehouse Retailers</td>\n",
       "      <td>3</td>\n",
       "      <td>377.1</td>\n",
       "      <td>0</td>\n",
       "      <td>0.0</td>\n",
       "      <td>store_fc6aa</td>\n",
       "      <td>product_cbfad</td>\n",
       "      <td>route_67047</td>\n",
       "      <td>supplier_identifier_055f7</td>\n",
       "    </tr>\n",
       "    <tr>\n",
       "      <th>1</th>\n",
       "      <td>Week 1 of 2019</td>\n",
       "      <td>Warehouse Retailers</td>\n",
       "      <td>4</td>\n",
       "      <td>502.8</td>\n",
       "      <td>0</td>\n",
       "      <td>0.0</td>\n",
       "      <td>store_fc6aa</td>\n",
       "      <td>product_2b363</td>\n",
       "      <td>route_67047</td>\n",
       "      <td>supplier_identifier_055f7</td>\n",
       "    </tr>\n",
       "    <tr>\n",
       "      <th>2</th>\n",
       "      <td>Week 1 of 2019</td>\n",
       "      <td>Warehouse Retailers</td>\n",
       "      <td>4</td>\n",
       "      <td>589.8</td>\n",
       "      <td>0</td>\n",
       "      <td>0.0</td>\n",
       "      <td>store_fc6aa</td>\n",
       "      <td>product_8de14</td>\n",
       "      <td>route_67047</td>\n",
       "      <td>supplier_identifier_055f7</td>\n",
       "    </tr>\n",
       "    <tr>\n",
       "      <th>3</th>\n",
       "      <td>Week 1 of 2019</td>\n",
       "      <td>Warehouse Retailers</td>\n",
       "      <td>4</td>\n",
       "      <td>502.8</td>\n",
       "      <td>0</td>\n",
       "      <td>0.0</td>\n",
       "      <td>store_fc6aa</td>\n",
       "      <td>product_1c00e</td>\n",
       "      <td>route_67047</td>\n",
       "      <td>supplier_identifier_055f7</td>\n",
       "    </tr>\n",
       "    <tr>\n",
       "      <th>4</th>\n",
       "      <td>Week 1 of 2019</td>\n",
       "      <td>Warehouse Retailers</td>\n",
       "      <td>3</td>\n",
       "      <td>343.8</td>\n",
       "      <td>0</td>\n",
       "      <td>0.0</td>\n",
       "      <td>store_fc6aa</td>\n",
       "      <td>product_55001</td>\n",
       "      <td>route_67047</td>\n",
       "      <td>supplier_identifier_055f7</td>\n",
       "    </tr>\n",
       "  </tbody>\n",
       "</table>\n",
       "</div>"
      ],
      "text/plain": [
       "  experiment_week  ...        supplier_identifier\n",
       "0  Week 1 of 2019  ...  supplier_identifier_055f7\n",
       "1  Week 1 of 2019  ...  supplier_identifier_055f7\n",
       "2  Week 1 of 2019  ...  supplier_identifier_055f7\n",
       "3  Week 1 of 2019  ...  supplier_identifier_055f7\n",
       "4  Week 1 of 2019  ...  supplier_identifier_055f7\n",
       "\n",
       "[5 rows x 10 columns]"
      ]
     },
     "execution_count": 2,
     "metadata": {
      "tags": []
     },
     "output_type": "execute_result"
    }
   ],
   "source": [
    "from google.colab import drive\n",
    "drive.mount('/content/gdrive')\n",
    "path = '/content/gdrive/My Drive/' \n",
    "train = pd.read_csv(path+'Copy of train (1).csv',header=0)\n",
    "train.head()"
   ]
  },
  {
   "cell_type": "code",
   "execution_count": 0,
   "metadata": {
    "colab": {},
    "colab_type": "code",
    "id": "rDNa6nt-qIyC",
    "outputId": "c0aeaf23-5537-42cb-8900-63ffa78b5e04"
   },
   "outputs": [
    {
     "name": "stdout",
     "output_type": "stream",
     "text": [
      "<class 'pandas.core.frame.DataFrame'>\n",
      "RangeIndex: 53364883 entries, 0 to 53364882\n",
      "Data columns (total 10 columns):\n",
      "experiment_week                object\n",
      "channel_type                   object\n",
      "num_units_sold_in_week         int64\n",
      "sales_revenue_in_week          float64\n",
      "num_units_returned             int64\n",
      "returned_units_revenue_loss    float64\n",
      "store_identifier               object\n",
      "product_identifier             object\n",
      "category_of_route              object\n",
      "supplier_identifier            object\n",
      "dtypes: float64(2), int64(2), object(6)\n",
      "memory usage: 23.0 GB\n"
     ]
    }
   ],
   "source": [
    "train.info(memory_usage=\"deep\")"
   ]
  },
  {
   "cell_type": "code",
   "execution_count": 0,
   "metadata": {
    "colab": {},
    "colab_type": "code",
    "id": "m3YcuAt8qIyK",
    "outputId": "be1da2bb-a783-486f-93e7-e0cdfdf1f14a"
   },
   "outputs": [
    {
     "data": {
      "text/plain": [
       "Index                                  80\n",
       "experiment_week                3788906693\n",
       "channel_type                   3792755532\n",
       "num_units_sold_in_week          426919064\n",
       "sales_revenue_in_week           426919064\n",
       "num_units_returned              426919064\n",
       "returned_units_revenue_loss     426919064\n",
       "store_identifier               3628812044\n",
       "product_identifier             3735541810\n",
       "category_of_route              3628812044\n",
       "supplier_identifier            4375920406\n",
       "dtype: int64"
      ]
     },
     "execution_count": 4,
     "metadata": {
      "tags": []
     },
     "output_type": "execute_result"
    }
   ],
   "source": [
    "train.memory_usage(deep=True)"
   ]
  },
  {
   "cell_type": "code",
   "execution_count": 0,
   "metadata": {
    "colab": {},
    "colab_type": "code",
    "id": "QbEZLrNzqIyO",
    "outputId": "90230c99-5d51-4630-9b4f-8f3f58a1eb6e"
   },
   "outputs": [
    {
     "data": {
      "text/plain": [
       "Index                             0.000080\n",
       "experiment_week                3788.906693\n",
       "channel_type                   3792.755532\n",
       "num_units_sold_in_week          426.919064\n",
       "sales_revenue_in_week           426.919064\n",
       "num_units_returned              426.919064\n",
       "returned_units_revenue_loss     426.919064\n",
       "store_identifier               3628.812044\n",
       "product_identifier             3735.541810\n",
       "category_of_route              3628.812044\n",
       "supplier_identifier            4375.920406\n",
       "dtype: float64"
      ]
     },
     "execution_count": 5,
     "metadata": {
      "tags": []
     },
     "output_type": "execute_result"
    }
   ],
   "source": [
    "#To make this easier to read, we convert all values to megabytes\n",
    "train.memory_usage(deep=True) * 1e-6"
   ]
  },
  {
   "cell_type": "code",
   "execution_count": 0,
   "metadata": {
    "colab": {},
    "colab_type": "code",
    "id": "SfVZLZlLqIyT",
    "outputId": "5655f2db-6fc0-4539-bcd4-4e20f90c74e5"
   },
   "outputs": [
    {
     "data": {
      "text/plain": [
       "24658.424864999997"
      ]
     },
     "execution_count": 6,
     "metadata": {
      "tags": []
     },
     "output_type": "execute_result"
    }
   ],
   "source": [
    "#The total memory usage can be seen like this:\n",
    "train.memory_usage(deep=True).sum() * 1e-6"
   ]
  },
  {
   "cell_type": "code",
   "execution_count": 3,
   "metadata": {
    "colab": {
     "base_uri": "https://localhost:8080/",
     "height": 204
    },
    "colab_type": "code",
    "id": "wgPYgpvzqIyW",
    "outputId": "d0c35380-e522-4338-e64a-e2b43baef7a7"
   },
   "outputs": [
    {
     "data": {
      "text/html": [
       "<div>\n",
       "<style scoped>\n",
       "    .dataframe tbody tr th:only-of-type {\n",
       "        vertical-align: middle;\n",
       "    }\n",
       "\n",
       "    .dataframe tbody tr th {\n",
       "        vertical-align: top;\n",
       "    }\n",
       "\n",
       "    .dataframe thead th {\n",
       "        text-align: right;\n",
       "    }\n",
       "</style>\n",
       "<table border=\"1\" class=\"dataframe\">\n",
       "  <thead>\n",
       "    <tr style=\"text-align: right;\">\n",
       "      <th></th>\n",
       "      <th>id</th>\n",
       "      <th>experiment_week</th>\n",
       "      <th>channel_type</th>\n",
       "      <th>supplier_identifier</th>\n",
       "      <th>category_of_route</th>\n",
       "      <th>store_identifier</th>\n",
       "      <th>product_identifier</th>\n",
       "    </tr>\n",
       "  </thead>\n",
       "  <tbody>\n",
       "    <tr>\n",
       "      <th>0</th>\n",
       "      <td>1</td>\n",
       "      <td>Week 6 of 2019</td>\n",
       "      <td>Warehouse Retailers</td>\n",
       "      <td>supplier_identifier_055f7</td>\n",
       "      <td>route_67047</td>\n",
       "      <td>store_fc6aa</td>\n",
       "      <td>product_cbfad</td>\n",
       "    </tr>\n",
       "    <tr>\n",
       "      <th>1</th>\n",
       "      <td>2</td>\n",
       "      <td>Week 6 of 2019</td>\n",
       "      <td>Warehouse Retailers</td>\n",
       "      <td>supplier_identifier_055f7</td>\n",
       "      <td>route_67047</td>\n",
       "      <td>store_fc6aa</td>\n",
       "      <td>product_2b363</td>\n",
       "    </tr>\n",
       "    <tr>\n",
       "      <th>2</th>\n",
       "      <td>3</td>\n",
       "      <td>Week 6 of 2019</td>\n",
       "      <td>Warehouse Retailers</td>\n",
       "      <td>supplier_identifier_055f7</td>\n",
       "      <td>route_67047</td>\n",
       "      <td>store_fc6aa</td>\n",
       "      <td>product_f79b8</td>\n",
       "    </tr>\n",
       "    <tr>\n",
       "      <th>3</th>\n",
       "      <td>4</td>\n",
       "      <td>Week 6 of 2019</td>\n",
       "      <td>Warehouse Retailers</td>\n",
       "      <td>supplier_identifier_055f7</td>\n",
       "      <td>route_67047</td>\n",
       "      <td>store_fc6aa</td>\n",
       "      <td>product_8de14</td>\n",
       "    </tr>\n",
       "    <tr>\n",
       "      <th>4</th>\n",
       "      <td>5</td>\n",
       "      <td>Week 6 of 2019</td>\n",
       "      <td>Warehouse Retailers</td>\n",
       "      <td>supplier_identifier_055f7</td>\n",
       "      <td>route_67047</td>\n",
       "      <td>store_fc6aa</td>\n",
       "      <td>product_1c00e</td>\n",
       "    </tr>\n",
       "  </tbody>\n",
       "</table>\n",
       "</div>"
      ],
      "text/plain": [
       "   id experiment_week  ... store_identifier product_identifier\n",
       "0   1  Week 6 of 2019  ...      store_fc6aa      product_cbfad\n",
       "1   2  Week 6 of 2019  ...      store_fc6aa      product_2b363\n",
       "2   3  Week 6 of 2019  ...      store_fc6aa      product_f79b8\n",
       "3   4  Week 6 of 2019  ...      store_fc6aa      product_8de14\n",
       "4   5  Week 6 of 2019  ...      store_fc6aa      product_1c00e\n",
       "\n",
       "[5 rows x 7 columns]"
      ]
     },
     "execution_count": 3,
     "metadata": {
      "tags": []
     },
     "output_type": "execute_result"
    }
   ],
   "source": [
    "test = pd.read_csv('C:/Users/Lenovo/Desktop/phd original work/Modeling/test.csv',header=0)\n",
    "test.head()"
   ]
  },
  {
   "cell_type": "code",
   "execution_count": 0,
   "metadata": {
    "colab": {},
    "colab_type": "code",
    "id": "mnULINemqIyY",
    "outputId": "e1a2661e-86ce-446d-9027-1f728804f6c5"
   },
   "outputs": [
    {
     "name": "stdout",
     "output_type": "stream",
     "text": [
      "<class 'pandas.core.frame.DataFrame'>\n",
      "RangeIndex: 20815581 entries, 0 to 20815580\n",
      "Data columns (total 7 columns):\n",
      "id                     int64\n",
      "experiment_week        object\n",
      "channel_type           object\n",
      "supplier_identifier    object\n",
      "category_of_route      object\n",
      "store_identifier       object\n",
      "product_identifier     object\n",
      "dtypes: int64(1), object(6)\n",
      "memory usage: 8.5 GB\n"
     ]
    }
   ],
   "source": [
    "test.info(memory_usage=\"deep\")"
   ]
  },
  {
   "cell_type": "code",
   "execution_count": 0,
   "metadata": {
    "colab": {},
    "colab_type": "code",
    "id": "EmDQ1CPFqIya",
    "outputId": "270505f1-e3ff-4f97-d150-09deb380c13c"
   },
   "outputs": [
    {
     "data": {
      "text/plain": [
       "Index                          80\n",
       "id                      166524648\n",
       "experiment_week        1477906251\n",
       "channel_type           1479526146\n",
       "supplier_identifier    1706877642\n",
       "category_of_route      1415459508\n",
       "store_identifier       1415459508\n",
       "product_identifier     1457090670\n",
       "dtype: int64"
      ]
     },
     "execution_count": 9,
     "metadata": {
      "tags": []
     },
     "output_type": "execute_result"
    }
   ],
   "source": [
    "test.memory_usage(deep=True)"
   ]
  },
  {
   "cell_type": "code",
   "execution_count": 0,
   "metadata": {
    "colab": {},
    "colab_type": "code",
    "id": "_BA-D0CfqIyc",
    "outputId": "237d82e5-14f4-4992-f84d-9e47a0c5ccca"
   },
   "outputs": [
    {
     "data": {
      "text/plain": [
       "Index                     0.000080\n",
       "id                      166.524648\n",
       "experiment_week        1477.906251\n",
       "channel_type           1479.526146\n",
       "supplier_identifier    1706.877642\n",
       "category_of_route      1415.459508\n",
       "store_identifier       1415.459508\n",
       "product_identifier     1457.090670\n",
       "dtype: float64"
      ]
     },
     "execution_count": 10,
     "metadata": {
      "tags": []
     },
     "output_type": "execute_result"
    }
   ],
   "source": [
    "#To make this easier to read, we convert all values to megabytes\n",
    "test.memory_usage(deep=True) * 1e-6"
   ]
  },
  {
   "cell_type": "code",
   "execution_count": 0,
   "metadata": {
    "colab": {},
    "colab_type": "code",
    "id": "OnbPu5FtqIyd",
    "outputId": "3d63cd1e-6b8b-4a95-ebfa-3899d1a7c187"
   },
   "outputs": [
    {
     "data": {
      "text/plain": [
       "9118.844453"
      ]
     },
     "execution_count": 11,
     "metadata": {
      "tags": []
     },
     "output_type": "execute_result"
    }
   ],
   "source": [
    "#The total memory usage can be seen like this:\n",
    "test.memory_usage(deep=True).sum() * 1e-6"
   ]
  },
  {
   "cell_type": "code",
   "execution_count": 0,
   "metadata": {
    "colab": {},
    "colab_type": "code",
    "id": "SMTTRm4KqIyh",
    "outputId": "fe109f5e-61c8-466a-e4e8-dfcace19817b"
   },
   "outputs": [
    {
     "data": {
      "text/plain": [
       "(53364883, 10)"
      ]
     },
     "execution_count": 12,
     "metadata": {
      "tags": []
     },
     "output_type": "execute_result"
    }
   ],
   "source": [
    "train.shape"
   ]
  },
  {
   "cell_type": "code",
   "execution_count": 0,
   "metadata": {
    "colab": {},
    "colab_type": "code",
    "id": "58cESelSqIyj",
    "outputId": "85f7aaa9-bd57-4957-e4c6-368b3654bb94"
   },
   "outputs": [
    {
     "data": {
      "text/plain": [
       "(20815581, 7)"
      ]
     },
     "execution_count": 13,
     "metadata": {
      "tags": []
     },
     "output_type": "execute_result"
    }
   ],
   "source": [
    "test.shape"
   ]
  },
  {
   "cell_type": "markdown",
   "metadata": {
    "colab_type": "text",
    "id": "imDDFdJ9qIym"
   },
   "source": [
    "# Creating a target variable"
   ]
  },
  {
   "cell_type": "code",
   "execution_count": 0,
   "metadata": {
    "colab": {},
    "colab_type": "code",
    "id": "aenyspF8qIym"
   },
   "outputs": [],
   "source": [
    "train['demand_projection'] = train['num_units_sold_in_week']-train['num_units_returned']"
   ]
  },
  {
   "cell_type": "code",
   "execution_count": 0,
   "metadata": {
    "colab": {},
    "colab_type": "code",
    "id": "JkKjzyZxqIyp"
   },
   "outputs": [],
   "source": [
    "#df[\"a\"] = pd.to_numeric(df[\"a\"])\n",
    "train[\"demand_projection\"] = pd.to_numeric(train[\"demand_projection\"])"
   ]
  },
  {
   "cell_type": "code",
   "execution_count": 6,
   "metadata": {
    "colab": {
     "base_uri": "https://localhost:8080/",
     "height": 34
    },
    "colab_type": "code",
    "id": "MwDLaql-qIyq",
    "outputId": "d0a17723-5d0e-4f81-f4ad-ba4c102c58d5"
   },
   "outputs": [
    {
     "data": {
      "text/plain": [
       "dtype('int64')"
      ]
     },
     "execution_count": 6,
     "metadata": {
      "tags": []
     },
     "output_type": "execute_result"
    }
   ],
   "source": [
    "train[\"demand_projection\"].dtypes"
   ]
  },
  {
   "cell_type": "markdown",
   "metadata": {
    "colab_type": "text",
    "id": "vkJAGni3qIys"
   },
   "source": [
    "# Analyzing the Target Variable (demand_projection)"
   ]
  },
  {
   "cell_type": "code",
   "execution_count": 0,
   "metadata": {
    "colab": {},
    "colab_type": "code",
    "id": "09qkpbpXqIyt",
    "outputId": "580a4fdb-08a3-414f-ec36-ae54c024d997"
   },
   "outputs": [
    {
     "data": {
      "text/plain": [
       "count    5.336488e+07\n",
       "mean     7.180995e+00\n",
       "std      2.207857e+01\n",
       "min     -1.634500e+04\n",
       "25%      2.000000e+00\n",
       "50%      3.000000e+00\n",
       "75%      6.000000e+00\n",
       "max      5.000000e+03\n",
       "Name: demand_projection, dtype: float64"
      ]
     },
     "execution_count": 17,
     "metadata": {
      "tags": []
     },
     "output_type": "execute_result"
    }
   ],
   "source": [
    "# Getting Description\n",
    "train['demand_projection'].describe()"
   ]
  },
  {
   "cell_type": "code",
   "execution_count": 0,
   "metadata": {
    "colab": {},
    "colab_type": "code",
    "id": "Cvpl1LVyqIyv",
    "outputId": "c7a100f6-df87-460a-97ef-aca32a016963"
   },
   "outputs": [
    {
     "data": {
      "text/plain": [
       "dtype('int64')"
      ]
     },
     "execution_count": 18,
     "metadata": {
      "tags": []
     },
     "output_type": "execute_result"
    }
   ],
   "source": [
    "train['demand_projection'].dtypes"
   ]
  },
  {
   "cell_type": "code",
   "execution_count": 0,
   "metadata": {
    "colab": {},
    "colab_type": "code",
    "id": "02HrdVIhqIyy",
    "outputId": "a22c4f2c-59ac-415b-ca81-6faae316f99f"
   },
   "outputs": [
    {
     "name": "stdout",
     "output_type": "stream",
     "text": [
      "\n",
      " mu = 7.18 and sigma = 22.08\n",
      "\n"
     ]
    },
    {
     "data": {
      "image/png": "[encoded data removed]",
      "text/plain": [
       "<Figure size 432x288 with 1 Axes>"
      ]
     },
     "metadata": {
      "image/png": {
       "height": 281,
       "width": 401
      },
      "needs_background": "light",
      "tags": []
     },
     "output_type": "display_data"
    },
    {
     "data": {
      "image/png": "[encoded data removed]",
      "text/plain": [
       "<Figure size 432x288 with 1 Axes>"
      ]
     },
     "metadata": {
      "image/png": {
       "height": 281,
       "width": 411
      },
      "needs_background": "light",
      "tags": []
     },
     "output_type": "display_data"
    },
    {
     "name": "stdout",
     "output_type": "stream",
     "text": [
      "Skewness: 28.225174\n",
      "Kurtosis: 12694.346942\n"
     ]
    }
   ],
   "source": [
    "#Plot Histogram\n",
    "sns.distplot(train['demand_projection'] , fit=norm);\n",
    "\n",
    "# Get the fitted parameters used by the function\n",
    "(mu, sigma) = norm.fit(train['demand_projection'])\n",
    "print( '\\n mu = {:.2f} and sigma = {:.2f}\\n'.format(mu, sigma))\n",
    "plt.legend(['Normal dist. ($\\mu=$ {:.2f} and $\\sigma=$ {:.2f} )'.format(mu, sigma)],\n",
    "            loc='best')\n",
    "plt.ylabel('Frequency')\n",
    "plt.title('demand_projection distribution')\n",
    "\n",
    "fig = plt.figure()\n",
    "res = stats.probplot(train['demand_projection'], plot=plt)\n",
    "plt.show()\n",
    "\n",
    "print(\"Skewness: %f\" % train['demand_projection'].skew())\n",
    "print(\"Kurtosis: %f\" % train['demand_projection'].kurt())"
   ]
  },
  {
   "cell_type": "code",
   "execution_count": 0,
   "metadata": {
    "colab": {},
    "colab_type": "code",
    "id": "NmJ4UwJOqIy0",
    "outputId": "ba2d79a4-a825-4170-caae-a9053ab4569b"
   },
   "outputs": [
    {
     "data": {
      "image/png": "[encoded data removed]",
      "text/plain": [
       "<Figure size 432x288 with 1 Axes>"
      ]
     },
     "metadata": {
      "image/png": {
       "height": 251,
       "width": 389
      },
      "needs_background": "light",
      "tags": []
     },
     "output_type": "display_data"
    }
   ],
   "source": [
    "%matplotlib inline\n",
    "x = np.random.normal(size = 1000)\n",
    "plt.hist(x, density=True, bins=30) # density\n",
    "plt.ylabel('demand_projection');"
   ]
  },
  {
   "cell_type": "markdown",
   "metadata": {
    "colab_type": "text",
    "id": "twNqK4cAqIy1"
   },
   "source": [
    "# EDA"
   ]
  },
  {
   "cell_type": "code",
   "execution_count": 7,
   "metadata": {
    "colab": {
     "base_uri": "https://localhost:8080/",
     "height": 153
    },
    "colab_type": "code",
    "id": "ODtQ4LalqIy2",
    "outputId": "590d7e35-dc44-48ec-aa0d-4dbbdb50ca6b"
   },
   "outputs": [
    {
     "data": {
      "text/plain": [
       "experiment_week        object\n",
       "channel_type           object\n",
       "store_identifier       object\n",
       "product_identifier     object\n",
       "category_of_route      object\n",
       "supplier_identifier    object\n",
       "demand_projection       int64\n",
       "dtype: object"
      ]
     },
     "execution_count": 7,
     "metadata": {
      "tags": []
     },
     "output_type": "execute_result"
    }
   ],
   "source": [
    "#Droping columns since train and test should contain same number of columns for the prediction process.\n",
    "columnDrop = ['num_units_sold_in_week','sales_revenue_in_week', 'num_units_returned','returned_units_revenue_loss']\n",
    "for a in columnDrop:\n",
    "  train.drop(a, axis = 1, inplace=True)\n",
    "train.dtypes"
   ]
  },
  {
   "cell_type": "code",
   "execution_count": 8,
   "metadata": {
    "colab": {
     "base_uri": "https://localhost:8080/",
     "height": 68
    },
    "colab_type": "code",
    "id": "B5PZOUWLqIy3",
    "outputId": "43b68060-224d-4283-fe9e-c9c152c678fb"
   },
   "outputs": [
    {
     "name": "stdout",
     "output_type": "stream",
     "text": [
      "\n",
      "The train data size after dropping columns is : (53364883, 7) \n",
      "The test data size after dropping columns is : (20815581, 7) \n"
     ]
    }
   ],
   "source": [
    "# Check data size after dropping the columns\n",
    "print(\"\\nThe train data size after dropping columns is : {} \".format(train.shape)) \n",
    "print(\"The test data size after dropping columns is : {} \".format(test.shape))"
   ]
  },
  {
   "cell_type": "code",
   "execution_count": 9,
   "metadata": {
    "colab": {
     "base_uri": "https://localhost:8080/",
     "height": 204
    },
    "colab_type": "code",
    "id": "pFNgP6d4qIy5",
    "outputId": "56d453f4-0ca7-4bad-bb7b-717cc83d9f67"
   },
   "outputs": [
    {
     "data": {
      "text/html": [
       "<div>\n",
       "<style scoped>\n",
       "    .dataframe tbody tr th:only-of-type {\n",
       "        vertical-align: middle;\n",
       "    }\n",
       "\n",
       "    .dataframe tbody tr th {\n",
       "        vertical-align: top;\n",
       "    }\n",
       "\n",
       "    .dataframe thead th {\n",
       "        text-align: right;\n",
       "    }\n",
       "</style>\n",
       "<table border=\"1\" class=\"dataframe\">\n",
       "  <thead>\n",
       "    <tr style=\"text-align: right;\">\n",
       "      <th></th>\n",
       "      <th>experiment_week</th>\n",
       "      <th>channel_type</th>\n",
       "      <th>store_identifier</th>\n",
       "      <th>product_identifier</th>\n",
       "      <th>category_of_route</th>\n",
       "      <th>supplier_identifier</th>\n",
       "      <th>demand_projection</th>\n",
       "    </tr>\n",
       "  </thead>\n",
       "  <tbody>\n",
       "    <tr>\n",
       "      <th>0</th>\n",
       "      <td>Week 1 of 2019</td>\n",
       "      <td>Warehouse Retailers</td>\n",
       "      <td>store_fc6aa</td>\n",
       "      <td>product_cbfad</td>\n",
       "      <td>route_67047</td>\n",
       "      <td>supplier_identifier_055f7</td>\n",
       "      <td>3</td>\n",
       "    </tr>\n",
       "    <tr>\n",
       "      <th>1</th>\n",
       "      <td>Week 1 of 2019</td>\n",
       "      <td>Warehouse Retailers</td>\n",
       "      <td>store_fc6aa</td>\n",
       "      <td>product_2b363</td>\n",
       "      <td>route_67047</td>\n",
       "      <td>supplier_identifier_055f7</td>\n",
       "      <td>4</td>\n",
       "    </tr>\n",
       "    <tr>\n",
       "      <th>2</th>\n",
       "      <td>Week 1 of 2019</td>\n",
       "      <td>Warehouse Retailers</td>\n",
       "      <td>store_fc6aa</td>\n",
       "      <td>product_8de14</td>\n",
       "      <td>route_67047</td>\n",
       "      <td>supplier_identifier_055f7</td>\n",
       "      <td>4</td>\n",
       "    </tr>\n",
       "    <tr>\n",
       "      <th>3</th>\n",
       "      <td>Week 1 of 2019</td>\n",
       "      <td>Warehouse Retailers</td>\n",
       "      <td>store_fc6aa</td>\n",
       "      <td>product_1c00e</td>\n",
       "      <td>route_67047</td>\n",
       "      <td>supplier_identifier_055f7</td>\n",
       "      <td>4</td>\n",
       "    </tr>\n",
       "    <tr>\n",
       "      <th>4</th>\n",
       "      <td>Week 1 of 2019</td>\n",
       "      <td>Warehouse Retailers</td>\n",
       "      <td>store_fc6aa</td>\n",
       "      <td>product_55001</td>\n",
       "      <td>route_67047</td>\n",
       "      <td>supplier_identifier_055f7</td>\n",
       "      <td>3</td>\n",
       "    </tr>\n",
       "  </tbody>\n",
       "</table>\n",
       "</div>"
      ],
      "text/plain": [
       "  experiment_week  ... demand_projection\n",
       "0  Week 1 of 2019  ...                 3\n",
       "1  Week 1 of 2019  ...                 4\n",
       "2  Week 1 of 2019  ...                 4\n",
       "3  Week 1 of 2019  ...                 4\n",
       "4  Week 1 of 2019  ...                 3\n",
       "\n",
       "[5 rows x 7 columns]"
      ]
     },
     "execution_count": 9,
     "metadata": {
      "tags": []
     },
     "output_type": "execute_result"
    }
   ],
   "source": [
    "train.head()"
   ]
  },
  {
   "cell_type": "code",
   "execution_count": 10,
   "metadata": {
    "colab": {
     "base_uri": "https://localhost:8080/",
     "height": 204
    },
    "colab_type": "code",
    "id": "X047sg4IqIy6",
    "outputId": "62ec1c9c-6ddc-42d3-e83b-a48fe3fe0653"
   },
   "outputs": [
    {
     "data": {
      "text/html": [
       "<div>\n",
       "<style scoped>\n",
       "    .dataframe tbody tr th:only-of-type {\n",
       "        vertical-align: middle;\n",
       "    }\n",
       "\n",
       "    .dataframe tbody tr th {\n",
       "        vertical-align: top;\n",
       "    }\n",
       "\n",
       "    .dataframe thead th {\n",
       "        text-align: right;\n",
       "    }\n",
       "</style>\n",
       "<table border=\"1\" class=\"dataframe\">\n",
       "  <thead>\n",
       "    <tr style=\"text-align: right;\">\n",
       "      <th></th>\n",
       "      <th>id</th>\n",
       "      <th>experiment_week</th>\n",
       "      <th>channel_type</th>\n",
       "      <th>supplier_identifier</th>\n",
       "      <th>category_of_route</th>\n",
       "      <th>store_identifier</th>\n",
       "      <th>product_identifier</th>\n",
       "    </tr>\n",
       "  </thead>\n",
       "  <tbody>\n",
       "    <tr>\n",
       "      <th>0</th>\n",
       "      <td>1</td>\n",
       "      <td>Week 6 of 2019</td>\n",
       "      <td>Warehouse Retailers</td>\n",
       "      <td>supplier_identifier_055f7</td>\n",
       "      <td>route_67047</td>\n",
       "      <td>store_fc6aa</td>\n",
       "      <td>product_cbfad</td>\n",
       "    </tr>\n",
       "    <tr>\n",
       "      <th>1</th>\n",
       "      <td>2</td>\n",
       "      <td>Week 6 of 2019</td>\n",
       "      <td>Warehouse Retailers</td>\n",
       "      <td>supplier_identifier_055f7</td>\n",
       "      <td>route_67047</td>\n",
       "      <td>store_fc6aa</td>\n",
       "      <td>product_2b363</td>\n",
       "    </tr>\n",
       "    <tr>\n",
       "      <th>2</th>\n",
       "      <td>3</td>\n",
       "      <td>Week 6 of 2019</td>\n",
       "      <td>Warehouse Retailers</td>\n",
       "      <td>supplier_identifier_055f7</td>\n",
       "      <td>route_67047</td>\n",
       "      <td>store_fc6aa</td>\n",
       "      <td>product_f79b8</td>\n",
       "    </tr>\n",
       "    <tr>\n",
       "      <th>3</th>\n",
       "      <td>4</td>\n",
       "      <td>Week 6 of 2019</td>\n",
       "      <td>Warehouse Retailers</td>\n",
       "      <td>supplier_identifier_055f7</td>\n",
       "      <td>route_67047</td>\n",
       "      <td>store_fc6aa</td>\n",
       "      <td>product_8de14</td>\n",
       "    </tr>\n",
       "    <tr>\n",
       "      <th>4</th>\n",
       "      <td>5</td>\n",
       "      <td>Week 6 of 2019</td>\n",
       "      <td>Warehouse Retailers</td>\n",
       "      <td>supplier_identifier_055f7</td>\n",
       "      <td>route_67047</td>\n",
       "      <td>store_fc6aa</td>\n",
       "      <td>product_1c00e</td>\n",
       "    </tr>\n",
       "  </tbody>\n",
       "</table>\n",
       "</div>"
      ],
      "text/plain": [
       "   id experiment_week  ... store_identifier product_identifier\n",
       "0   1  Week 6 of 2019  ...      store_fc6aa      product_cbfad\n",
       "1   2  Week 6 of 2019  ...      store_fc6aa      product_2b363\n",
       "2   3  Week 6 of 2019  ...      store_fc6aa      product_f79b8\n",
       "3   4  Week 6 of 2019  ...      store_fc6aa      product_8de14\n",
       "4   5  Week 6 of 2019  ...      store_fc6aa      product_1c00e\n",
       "\n",
       "[5 rows x 7 columns]"
      ]
     },
     "execution_count": 10,
     "metadata": {
      "tags": []
     },
     "output_type": "execute_result"
    }
   ],
   "source": [
    "test.head()"
   ]
  },
  {
   "cell_type": "markdown",
   "metadata": {
    "colab_type": "text",
    "id": "rYf-GG2SqIy8"
   },
   "source": [
    "### Multivariable Analysis"
   ]
  },
  {
   "cell_type": "code",
   "execution_count": 55,
   "metadata": {
    "colab": {
     "base_uri": "https://localhost:8080/",
     "height": 68
    },
    "colab_type": "code",
    "id": "8o9tRoKIqIy8",
    "outputId": "ba9eedb5-44f2-46bc-daf1-07662872e9cf"
   },
   "outputs": [
    {
     "data": {
      "text/plain": [
       "Index(['experiment_week', 'channel_type', 'store_identifier',\n",
       "       'product_identifier', 'category_of_route', 'supplier_identifier'],\n",
       "      dtype='object')"
      ]
     },
     "execution_count": 55,
     "metadata": {},
     "output_type": "execute_result"
    }
   ],
   "source": [
    "# Checking Categorical Data\n",
    "train.select_dtypes(include=['object']).columns"
   ]
  },
  {
   "cell_type": "code",
   "execution_count": 56,
   "metadata": {
    "colab": {
     "base_uri": "https://localhost:8080/",
     "height": 34
    },
    "colab_type": "code",
    "id": "L2Q9RG1HqIy9",
    "outputId": "3239a436-ccf3-4634-9281-1c02f394d883"
   },
   "outputs": [
    {
     "data": {
      "text/plain": [
       "Index(['demand_projection'], dtype='object')"
      ]
     },
     "execution_count": 56,
     "metadata": {},
     "output_type": "execute_result"
    }
   ],
   "source": [
    "# Checking Numerical Data\n",
    "train.select_dtypes(include=['int64','float64']).columns"
   ]
  },
  {
   "cell_type": "code",
   "execution_count": 57,
   "metadata": {
    "colab": {
     "base_uri": "https://localhost:8080/",
     "height": 34
    },
    "colab_type": "code",
    "id": "8HgmabsvqIy_",
    "outputId": "0dcb421d-8536-47b4-a14b-14243ec5d1aa"
   },
   "outputs": [
    {
     "name": "stdout",
     "output_type": "stream",
     "text": [
      "Total Features:  6 categorical + 1 numerical = 7 features\n"
     ]
    }
   ],
   "source": [
    "cat = len(train.select_dtypes(include=['object']).columns)\n",
    "num = len(train.select_dtypes(include=['int64','float64']).columns)\n",
    "print('Total Features: ', cat, 'categorical', '+',\n",
    "      num, 'numerical', '=', cat+num, 'features')"
   ]
  },
  {
   "cell_type": "code",
   "execution_count": 14,
   "metadata": {
    "colab": {
     "base_uri": "https://localhost:8080/",
     "height": 68
    },
    "colab_type": "code",
    "id": "aqUobCoOqIzA",
    "outputId": "8e14be29-6a1f-4d7d-c7e3-6d881d5f2f5d"
   },
   "outputs": [
    {
     "data": {
      "text/plain": [
       "Index(['experiment_week', 'channel_type', 'supplier_identifier',\n",
       "       'category_of_route', 'store_identifier', 'product_identifier'],\n",
       "      dtype='object')"
      ]
     },
     "execution_count": 14,
     "metadata": {
      "tags": []
     },
     "output_type": "execute_result"
    }
   ],
   "source": [
    "# Checking Categorical Data\n",
    "test.select_dtypes(include=['object']).columns"
   ]
  },
  {
   "cell_type": "code",
   "execution_count": 15,
   "metadata": {
    "colab": {
     "base_uri": "https://localhost:8080/",
     "height": 34
    },
    "colab_type": "code",
    "id": "f9QsnWMSqIzB",
    "outputId": "68aa8931-199a-47e4-801e-f658aab47bb7"
   },
   "outputs": [
    {
     "data": {
      "text/plain": [
       "Index(['id'], dtype='object')"
      ]
     },
     "execution_count": 15,
     "metadata": {
      "tags": []
     },
     "output_type": "execute_result"
    }
   ],
   "source": [
    "# Checking Numerical Data\n",
    "test.select_dtypes(include=['int64','float64']).columns"
   ]
  },
  {
   "cell_type": "code",
   "execution_count": 16,
   "metadata": {
    "colab": {
     "base_uri": "https://localhost:8080/",
     "height": 34
    },
    "colab_type": "code",
    "id": "sOsG5ktZqIzD",
    "outputId": "c3de947b-e6ad-46aa-8cbf-c57915e70ef5"
   },
   "outputs": [
    {
     "name": "stdout",
     "output_type": "stream",
     "text": [
      "Total Features:  6 categorical + 1 numerical = 7 features\n"
     ]
    }
   ],
   "source": [
    "cat = len(test.select_dtypes(include=['object']).columns)\n",
    "num = len(test.select_dtypes(include=['int64','float64']).columns)\n",
    "print('Total Features: ', cat, 'categorical', '+',\n",
    "      num, 'numerical', '=', cat+num, 'features')"
   ]
  },
  {
   "cell_type": "markdown",
   "metadata": {
    "colab_type": "text",
    "id": "Zs5CcxQ_qIzG"
   },
   "source": [
    "### Feature Engineering"
   ]
  },
  {
   "cell_type": "code",
   "execution_count": 17,
   "metadata": {
    "colab": {
     "base_uri": "https://localhost:8080/",
     "height": 153
    },
    "colab_type": "code",
    "id": "W2GW80M-qIzH",
    "outputId": "b769424d-fe9e-44c3-958b-58fc17e805ce"
   },
   "outputs": [
    {
     "data": {
      "text/plain": [
       "experiment_week        0\n",
       "channel_type           0\n",
       "store_identifier       0\n",
       "product_identifier     0\n",
       "category_of_route      0\n",
       "supplier_identifier    0\n",
       "demand_projection      0\n",
       "dtype: int64"
      ]
     },
     "execution_count": 17,
     "metadata": {
      "tags": []
     },
     "output_type": "execute_result"
    }
   ],
   "source": [
    "# finding count of missing values\n",
    "train.apply(lambda x: sum(x.isnull()))"
   ]
  },
  {
   "cell_type": "code",
   "execution_count": 18,
   "metadata": {
    "colab": {
     "base_uri": "https://localhost:8080/",
     "height": 153
    },
    "colab_type": "code",
    "id": "xdX9cIlsqIzI",
    "outputId": "7456fda5-b351-4f10-f7a3-f52586b60d2a"
   },
   "outputs": [
    {
     "data": {
      "text/plain": [
       "experiment_week             5\n",
       "channel_type                9\n",
       "store_identifier       587773\n",
       "product_identifier       1736\n",
       "category_of_route        3490\n",
       "supplier_identifier       552\n",
       "demand_projection        2332\n",
       "dtype: int64"
      ]
     },
     "execution_count": 18,
     "metadata": {
      "tags": []
     },
     "output_type": "execute_result"
    }
   ],
   "source": [
    "#finding unique values in each column\n",
    "train.apply(lambda x: len(x.unique()))"
   ]
  },
  {
   "cell_type": "code",
   "execution_count": 19,
   "metadata": {
    "colab": {
     "base_uri": "https://localhost:8080/",
     "height": 51
    },
    "colab_type": "code",
    "id": "vPZFQSjhqIzJ",
    "outputId": "3dd61fd6-ffa8-4270-a266-8b7f39706d31"
   },
   "outputs": [
    {
     "data": {
      "text/plain": [
       "array(['Week 1 of 2019', 'Week 2 of 2019', 'Week 3 of 2019',\n",
       "       'Week 4 of 2019', 'Week 5 of 2019'], dtype=object)"
      ]
     },
     "execution_count": 19,
     "metadata": {
      "tags": []
     },
     "output_type": "execute_result"
    }
   ],
   "source": [
    "#For example few of them are:-\n",
    "train['experiment_week'].unique()"
   ]
  },
  {
   "cell_type": "code",
   "execution_count": 20,
   "metadata": {
    "colab": {
     "base_uri": "https://localhost:8080/",
     "height": 85
    },
    "colab_type": "code",
    "id": "dgHoRHFGqIzK",
    "outputId": "7de1af06-655b-4355-be97-f71f23304482"
   },
   "outputs": [
    {
     "data": {
      "text/plain": [
       "array(['Warehouse Retailers', 'Discount Retailer', 'Department Stores',\n",
       "       'Grocery Stores', 'Supermarkets', 'Specialty Retailers',\n",
       "       'Wholesale Retailers', 'Convenience Retailer',\n",
       "       'Internet Retailers'], dtype=object)"
      ]
     },
     "execution_count": 20,
     "metadata": {
      "tags": []
     },
     "output_type": "execute_result"
    }
   ],
   "source": [
    "train['channel_type'].unique()"
   ]
  },
  {
   "cell_type": "code",
   "execution_count": 0,
   "metadata": {
    "colab": {},
    "colab_type": "code",
    "id": "RSrpiVT5qIzL"
   },
   "outputs": [],
   "source": [
    "#Converting into a categorical variable\n",
    "train['experiment_week'] = train['experiment_week'].astype(str)\n",
    "train['channel_type'] = train['channel_type'].astype(str)\n",
    "train['store_identifier'] = train['store_identifier'].astype(str)\n",
    "train['product_identifier'] = train['product_identifier'].astype(str)\n",
    "train['category_of_route'] = train['category_of_route'].astype(str)\n",
    "train['supplier_identifier'] = train['supplier_identifier'].astype(str)"
   ]
  },
  {
   "cell_type": "code",
   "execution_count": 22,
   "metadata": {
    "colab": {
     "base_uri": "https://localhost:8080/",
     "height": 34
    },
    "colab_type": "code",
    "id": "uruG0tVlqIzL",
    "outputId": "ae03b437-8824-4ca9-9fe3-cf24e665ddb8"
   },
   "outputs": [
    {
     "name": "stdout",
     "output_type": "stream",
     "text": [
      "Shape train: (53364883, 7)\n"
     ]
    }
   ],
   "source": [
    "# using label encoder method to give numeric values to categorical columns\n",
    "from sklearn.preprocessing import LabelEncoder\n",
    "cols = ('experiment_week', 'channel_type', 'store_identifier',\n",
    "       'product_identifier', 'category_of_route', 'supplier_identifier')\n",
    "# Process columns and apply LabelEncoder to categorical features\n",
    "for c in cols:\n",
    "    lbl = LabelEncoder() \n",
    "    lbl.fit(list(train[c].values)) \n",
    "    train[c] = lbl.transform(list(train[c].values))\n",
    "\n",
    "# Check shape        \n",
    "print('Shape train: {}'.format(train.shape))"
   ]
  },
  {
   "cell_type": "code",
   "execution_count": 23,
   "metadata": {
    "colab": {
     "base_uri": "https://localhost:8080/",
     "height": 153
    },
    "colab_type": "code",
    "id": "VFVRy7TWqIzN",
    "outputId": "c8760408-ab4b-4280-96a9-906041ec2889"
   },
   "outputs": [
    {
     "data": {
      "text/plain": [
       "experiment_week        int64\n",
       "channel_type           int64\n",
       "store_identifier       int64\n",
       "product_identifier     int64\n",
       "category_of_route      int64\n",
       "supplier_identifier    int64\n",
       "demand_projection      int64\n",
       "dtype: object"
      ]
     },
     "execution_count": 23,
     "metadata": {
      "tags": []
     },
     "output_type": "execute_result"
    }
   ],
   "source": [
    "train.dtypes"
   ]
  },
  {
   "cell_type": "code",
   "execution_count": 24,
   "metadata": {
    "colab": {
     "base_uri": "https://localhost:8080/",
     "height": 153
    },
    "colab_type": "code",
    "id": "HOxDEZ8cqIzO",
    "outputId": "9286b43f-8a7f-4639-b57e-be799cea5260"
   },
   "outputs": [
    {
     "data": {
      "text/plain": [
       "id                     0\n",
       "experiment_week        0\n",
       "channel_type           0\n",
       "supplier_identifier    0\n",
       "category_of_route      0\n",
       "store_identifier       0\n",
       "product_identifier     0\n",
       "dtype: int64"
      ]
     },
     "execution_count": 24,
     "metadata": {
      "tags": []
     },
     "output_type": "execute_result"
    }
   ],
   "source": [
    "# finding count of missing values\n",
    "test.apply(lambda x: sum(x.isnull()))"
   ]
  },
  {
   "cell_type": "code",
   "execution_count": 25,
   "metadata": {
    "colab": {
     "base_uri": "https://localhost:8080/",
     "height": 153
    },
    "colab_type": "code",
    "id": "39C_s7EEqIzP",
    "outputId": "6c428a0e-2ae7-4aad-bf22-c52c78f46c2d"
   },
   "outputs": [
    {
     "data": {
      "text/plain": [
       "id                     20815581\n",
       "experiment_week               2\n",
       "channel_type                  9\n",
       "supplier_identifier         552\n",
       "category_of_route          3003\n",
       "store_identifier         564554\n",
       "product_identifier         1633\n",
       "dtype: int64"
      ]
     },
     "execution_count": 25,
     "metadata": {
      "tags": []
     },
     "output_type": "execute_result"
    }
   ],
   "source": [
    "#finding unique values in each column\n",
    "test.apply(lambda x: len(x.unique()))"
   ]
  },
  {
   "cell_type": "code",
   "execution_count": 26,
   "metadata": {
    "colab": {
     "base_uri": "https://localhost:8080/",
     "height": 34
    },
    "colab_type": "code",
    "id": "t3nB_1BPqIzR",
    "outputId": "269272bf-82df-4fca-f9de-874e1265024d"
   },
   "outputs": [
    {
     "data": {
      "text/plain": [
       "array(['Week 6 of 2019', 'Week 7 of 2019'], dtype=object)"
      ]
     },
     "execution_count": 26,
     "metadata": {
      "tags": []
     },
     "output_type": "execute_result"
    }
   ],
   "source": [
    "#For example few of them are:-\n",
    "test['experiment_week'].unique()"
   ]
  },
  {
   "cell_type": "code",
   "execution_count": 27,
   "metadata": {
    "colab": {
     "base_uri": "https://localhost:8080/",
     "height": 85
    },
    "colab_type": "code",
    "id": "Z70sspuYqIzS",
    "outputId": "9d68743b-e708-4d28-d107-94c43c9b2970"
   },
   "outputs": [
    {
     "data": {
      "text/plain": [
       "array(['Warehouse Retailers', 'Discount Retailer', 'Department Stores',\n",
       "       'Grocery Stores', 'Supermarkets', 'Specialty Retailers',\n",
       "       'Wholesale Retailers', 'Convenience Retailer',\n",
       "       'Internet Retailers'], dtype=object)"
      ]
     },
     "execution_count": 27,
     "metadata": {
      "tags": []
     },
     "output_type": "execute_result"
    }
   ],
   "source": [
    "test['channel_type'].unique()"
   ]
  },
  {
   "cell_type": "code",
   "execution_count": 0,
   "metadata": {
    "colab": {},
    "colab_type": "code",
    "id": "II1oUmohqIzW"
   },
   "outputs": [],
   "source": [
    "#Converting into a categorical variable\n",
    "test['experiment_week'] = test['experiment_week'].astype(str)\n",
    "test['channel_type'] = test['channel_type'].astype(str)\n",
    "test['store_identifier'] = test['store_identifier'].astype(str)\n",
    "test['product_identifier'] = test['product_identifier'].astype(str)\n",
    "test['category_of_route'] = test['category_of_route'].astype(str)\n",
    "test['supplier_identifier'] = test['supplier_identifier'].astype(str)"
   ]
  },
  {
   "cell_type": "code",
   "execution_count": 29,
   "metadata": {
    "colab": {
     "base_uri": "https://localhost:8080/",
     "height": 34
    },
    "colab_type": "code",
    "id": "8mvrPRGWqIzX",
    "outputId": "387e2e54-cce6-4590-88c0-912c56d63e61"
   },
   "outputs": [
    {
     "name": "stdout",
     "output_type": "stream",
     "text": [
      "Shape test: (20815581, 7)\n"
     ]
    }
   ],
   "source": [
    "# using label encoder method to give numeric values to categorical columns\n",
    "from sklearn.preprocessing import LabelEncoder\n",
    "cols = ('experiment_week', 'channel_type', 'store_identifier',\n",
    "       'product_identifier', 'category_of_route', 'supplier_identifier')\n",
    "# Process columns and apply LabelEncoder to categorical features\n",
    "for c in cols:\n",
    "    lbl = LabelEncoder() \n",
    "    lbl.fit(list(test[c].values)) \n",
    "    test[c] = lbl.transform(list(test[c].values))\n",
    "\n",
    "# Check shape        \n",
    "print('Shape test: {}'.format(test.shape))"
   ]
  },
  {
   "cell_type": "code",
   "execution_count": 30,
   "metadata": {
    "colab": {
     "base_uri": "https://localhost:8080/",
     "height": 153
    },
    "colab_type": "code",
    "id": "bgbbyE8tqIzY",
    "outputId": "f8ce11de-4e2b-436a-a687-c5015001fc3a"
   },
   "outputs": [
    {
     "data": {
      "text/plain": [
       "id                     int64\n",
       "experiment_week        int64\n",
       "channel_type           int64\n",
       "supplier_identifier    int64\n",
       "category_of_route      int64\n",
       "store_identifier       int64\n",
       "product_identifier     int64\n",
       "dtype: object"
      ]
     },
     "execution_count": 30,
     "metadata": {
      "tags": []
     },
     "output_type": "execute_result"
    }
   ],
   "source": [
    "test.dtypes"
   ]
  },
  {
   "cell_type": "code",
   "execution_count": 31,
   "metadata": {
    "colab": {
     "base_uri": "https://localhost:8080/",
     "height": 204
    },
    "colab_type": "code",
    "id": "WzURcU0dqIza",
    "outputId": "45b3e03f-36b9-4040-ce25-538f6e903e7d"
   },
   "outputs": [
    {
     "data": {
      "text/html": [
       "<div>\n",
       "<style scoped>\n",
       "    .dataframe tbody tr th:only-of-type {\n",
       "        vertical-align: middle;\n",
       "    }\n",
       "\n",
       "    .dataframe tbody tr th {\n",
       "        vertical-align: top;\n",
       "    }\n",
       "\n",
       "    .dataframe thead th {\n",
       "        text-align: right;\n",
       "    }\n",
       "</style>\n",
       "<table border=\"1\" class=\"dataframe\">\n",
       "  <thead>\n",
       "    <tr style=\"text-align: right;\">\n",
       "      <th></th>\n",
       "      <th>experiment_week</th>\n",
       "      <th>channel_type</th>\n",
       "      <th>store_identifier</th>\n",
       "      <th>product_identifier</th>\n",
       "      <th>category_of_route</th>\n",
       "      <th>supplier_identifier</th>\n",
       "      <th>demand_projection</th>\n",
       "    </tr>\n",
       "  </thead>\n",
       "  <tbody>\n",
       "    <tr>\n",
       "      <th>0</th>\n",
       "      <td>0</td>\n",
       "      <td>7</td>\n",
       "      <td>579653</td>\n",
       "      <td>1381</td>\n",
       "      <td>1365</td>\n",
       "      <td>12</td>\n",
       "      <td>3</td>\n",
       "    </tr>\n",
       "    <tr>\n",
       "      <th>1</th>\n",
       "      <td>0</td>\n",
       "      <td>7</td>\n",
       "      <td>579653</td>\n",
       "      <td>272</td>\n",
       "      <td>1365</td>\n",
       "      <td>12</td>\n",
       "      <td>4</td>\n",
       "    </tr>\n",
       "    <tr>\n",
       "      <th>2</th>\n",
       "      <td>0</td>\n",
       "      <td>7</td>\n",
       "      <td>579653</td>\n",
       "      <td>992</td>\n",
       "      <td>1365</td>\n",
       "      <td>12</td>\n",
       "      <td>4</td>\n",
       "    </tr>\n",
       "    <tr>\n",
       "      <th>3</th>\n",
       "      <td>0</td>\n",
       "      <td>7</td>\n",
       "      <td>579653</td>\n",
       "      <td>174</td>\n",
       "      <td>1365</td>\n",
       "      <td>12</td>\n",
       "      <td>4</td>\n",
       "    </tr>\n",
       "    <tr>\n",
       "      <th>4</th>\n",
       "      <td>0</td>\n",
       "      <td>7</td>\n",
       "      <td>579653</td>\n",
       "      <td>590</td>\n",
       "      <td>1365</td>\n",
       "      <td>12</td>\n",
       "      <td>3</td>\n",
       "    </tr>\n",
       "  </tbody>\n",
       "</table>\n",
       "</div>"
      ],
      "text/plain": [
       "   experiment_week  channel_type  ...  supplier_identifier  demand_projection\n",
       "0                0             7  ...                   12                  3\n",
       "1                0             7  ...                   12                  4\n",
       "2                0             7  ...                   12                  4\n",
       "3                0             7  ...                   12                  4\n",
       "4                0             7  ...                   12                  3\n",
       "\n",
       "[5 rows x 7 columns]"
      ]
     },
     "execution_count": 31,
     "metadata": {
      "tags": []
     },
     "output_type": "execute_result"
    }
   ],
   "source": [
    "train.head()"
   ]
  },
  {
   "cell_type": "code",
   "execution_count": 32,
   "metadata": {
    "colab": {
     "base_uri": "https://localhost:8080/",
     "height": 204
    },
    "colab_type": "code",
    "id": "yUr9MUPCqIzx",
    "outputId": "e9c56460-213c-4a01-fe56-f559256b4a5a"
   },
   "outputs": [
    {
     "data": {
      "text/html": [
       "<div>\n",
       "<style scoped>\n",
       "    .dataframe tbody tr th:only-of-type {\n",
       "        vertical-align: middle;\n",
       "    }\n",
       "\n",
       "    .dataframe tbody tr th {\n",
       "        vertical-align: top;\n",
       "    }\n",
       "\n",
       "    .dataframe thead th {\n",
       "        text-align: right;\n",
       "    }\n",
       "</style>\n",
       "<table border=\"1\" class=\"dataframe\">\n",
       "  <thead>\n",
       "    <tr style=\"text-align: right;\">\n",
       "      <th></th>\n",
       "      <th>id</th>\n",
       "      <th>experiment_week</th>\n",
       "      <th>channel_type</th>\n",
       "      <th>supplier_identifier</th>\n",
       "      <th>category_of_route</th>\n",
       "      <th>store_identifier</th>\n",
       "      <th>product_identifier</th>\n",
       "    </tr>\n",
       "  </thead>\n",
       "  <tbody>\n",
       "    <tr>\n",
       "      <th>0</th>\n",
       "      <td>1</td>\n",
       "      <td>0</td>\n",
       "      <td>7</td>\n",
       "      <td>12</td>\n",
       "      <td>1178</td>\n",
       "      <td>556783</td>\n",
       "      <td>1302</td>\n",
       "    </tr>\n",
       "    <tr>\n",
       "      <th>1</th>\n",
       "      <td>2</td>\n",
       "      <td>0</td>\n",
       "      <td>7</td>\n",
       "      <td>12</td>\n",
       "      <td>1178</td>\n",
       "      <td>556783</td>\n",
       "      <td>261</td>\n",
       "    </tr>\n",
       "    <tr>\n",
       "      <th>2</th>\n",
       "      <td>3</td>\n",
       "      <td>0</td>\n",
       "      <td>7</td>\n",
       "      <td>12</td>\n",
       "      <td>1178</td>\n",
       "      <td>556783</td>\n",
       "      <td>1580</td>\n",
       "    </tr>\n",
       "    <tr>\n",
       "      <th>3</th>\n",
       "      <td>4</td>\n",
       "      <td>0</td>\n",
       "      <td>7</td>\n",
       "      <td>12</td>\n",
       "      <td>1178</td>\n",
       "      <td>556783</td>\n",
       "      <td>940</td>\n",
       "    </tr>\n",
       "    <tr>\n",
       "      <th>4</th>\n",
       "      <td>5</td>\n",
       "      <td>0</td>\n",
       "      <td>7</td>\n",
       "      <td>12</td>\n",
       "      <td>1178</td>\n",
       "      <td>556783</td>\n",
       "      <td>163</td>\n",
       "    </tr>\n",
       "  </tbody>\n",
       "</table>\n",
       "</div>"
      ],
      "text/plain": [
       "   id  experiment_week  ...  store_identifier  product_identifier\n",
       "0   1                0  ...            556783                1302\n",
       "1   2                0  ...            556783                 261\n",
       "2   3                0  ...            556783                1580\n",
       "3   4                0  ...            556783                 940\n",
       "4   5                0  ...            556783                 163\n",
       "\n",
       "[5 rows x 7 columns]"
      ]
     },
     "execution_count": 32,
     "metadata": {
      "tags": []
     },
     "output_type": "execute_result"
    }
   ],
   "source": [
    "test.head()"
   ]
  },
  {
   "cell_type": "code",
   "execution_count": 33,
   "metadata": {
    "colab": {
     "base_uri": "https://localhost:8080/",
     "height": 34
    },
    "colab_type": "code",
    "id": "kFBQS5FEqIzy",
    "outputId": "05a3c174-cdcf-4d50-8690-f4a1ea4de540"
   },
   "outputs": [
    {
     "data": {
      "text/plain": [
       "(53364883, 7)"
      ]
     },
     "execution_count": 33,
     "metadata": {
      "tags": []
     },
     "output_type": "execute_result"
    }
   ],
   "source": [
    "train.shape"
   ]
  },
  {
   "cell_type": "code",
   "execution_count": 34,
   "metadata": {
    "colab": {
     "base_uri": "https://localhost:8080/",
     "height": 34
    },
    "colab_type": "code",
    "id": "C4p4RwzgqIzz",
    "outputId": "e6463f21-7647-40bb-f06e-7e2c0ebf6890"
   },
   "outputs": [
    {
     "data": {
      "text/plain": [
       "(20815581, 7)"
      ]
     },
     "execution_count": 34,
     "metadata": {
      "tags": []
     },
     "output_type": "execute_result"
    }
   ],
   "source": [
    "test.shape"
   ]
  },
  {
   "cell_type": "code",
   "execution_count": 0,
   "metadata": {
    "colab": {},
    "colab_type": "code",
    "id": "aoq3-91EqIz0"
   },
   "outputs": [],
   "source": [
    "# Save the 'Id' column\n",
    "test_ID = test['id']"
   ]
  },
  {
   "cell_type": "code",
   "execution_count": 0,
   "metadata": {
    "colab": {},
    "colab_type": "code",
    "id": "QX-IcA2WqIz1"
   },
   "outputs": [],
   "source": [
    "# Now drop the 'Id' column since it's unnecessary for the prediction process.\n",
    "test.drop(\"id\", axis = 1, inplace = True)"
   ]
  },
  {
   "cell_type": "code",
   "execution_count": 37,
   "metadata": {
    "colab": {
     "base_uri": "https://localhost:8080/",
     "height": 119
    },
    "colab_type": "code",
    "id": "jl13iP02qIz2",
    "outputId": "9cfa3b89-598c-4480-9a63-c1e1fb60b434"
   },
   "outputs": [
    {
     "data": {
      "text/plain": [
       "0    1\n",
       "1    2\n",
       "2    3\n",
       "3    4\n",
       "4    5\n",
       "Name: id, dtype: int64"
      ]
     },
     "execution_count": 37,
     "metadata": {
      "tags": []
     },
     "output_type": "execute_result"
    }
   ],
   "source": [
    "test_ID.head()"
   ]
  },
  {
   "cell_type": "markdown",
   "metadata": {
    "colab_type": "text",
    "id": "URVpKRKAqIz_"
   },
   "source": [
    "# Modeling and Predictions"
   ]
  },
  {
   "cell_type": "code",
   "execution_count": 6,
   "metadata": {
    "colab": {},
    "colab_type": "code",
    "id": "PIdW_GrhqI0A"
   },
   "outputs": [],
   "source": [
    "from sklearn.linear_model import ElasticNet, Lasso,  BayesianRidge, LassoLarsIC\n",
    "from sklearn.ensemble import RandomForestRegressor,  GradientBoostingRegressor\n",
    "from sklearn.kernel_ridge import KernelRidge\n",
    "from sklearn.pipeline import make_pipeline\n",
    "from sklearn.preprocessing import RobustScaler\n",
    "from sklearn.base import BaseEstimator, TransformerMixin, RegressorMixin, clone\n",
    "from sklearn.model_selection import KFold, cross_val_score, train_test_split\n",
    "from sklearn.metrics import mean_squared_error\n",
    "from sklearn.model_selection import cross_validate\n",
    "import xgboost as xgb\n",
    "import lightgbm as lgb"
   ]
  },
  {
   "cell_type": "code",
   "execution_count": 36,
   "metadata": {
    "colab": {},
    "colab_type": "code",
    "id": "8D0JOA56qI0A"
   },
   "outputs": [],
   "source": [
    "#Define target and ID columns:\n",
    "target = 'demand_projection'\n",
    "IDcol = \"id\"\n",
    "from sklearn import metrics\n",
    "def modelfit(alg, dtrain, dtest, predictors, target, IDcol, filename):\n",
    "    #Fit the algorithm on the data\n",
    "    alg.fit(dtrain[predictors], dtrain[target])\n",
    "        \n",
    "    #Predict training set:\n",
    "    dtrain_predictions = alg.predict(dtrain[predictors])\n",
    "    \n",
    "    #Remember the target had been normalized\n",
    "    #Sq_train = (dtrain[target])**2\n",
    "    #Perform cross-validation:\n",
    "    cv_score = cross_val_score(alg, dtrain[predictors],dtrain[target] , cv=20, scoring='neg_mean_squared_error')\n",
    "    cv_score = np.sqrt(np.abs(cv_score))\n",
    "    \n",
    "    #Print model report:\n",
    "    print(\"\\nModel Report\")\n",
    "    print(\"RMSE : %.4g\" % np.sqrt(metrics.mean_squared_error(dtrain[target].values, dtrain_predictions)))\n",
    "    print(\"CV Score : Mean - %.4g | Std - %.4g | Min - %.4g | Max - %.4g\" % (np.mean(cv_score),np.std(cv_score),np.min(cv_score),np.max(cv_score)))\n",
    "    \n",
    "    #Predict on testing data:\n",
    "    dtest[target] = alg.predict(dtest[predictors])\n",
    "    \n",
    "    #Export submission file:\n",
    "    #IDcol.append(target)\n",
    "    #submission = pd.DataFrame({ x: dtest[x] for x in IDcol})\n",
    "    #submission.to_csv(filename, index=False)\n",
    "\n",
    "    sub = pd.DataFrame()\n",
    "    sub['id'] = test_ID\n",
    "    sub['demand_projection'] = dtest[target]\n",
    "    sub.to_csv(filename, index=False)\n"
   ]
  },
  {
   "cell_type": "markdown",
   "metadata": {
    "colab_type": "text",
    "id": "-UwdZFrVqI0B"
   },
   "source": [
    "# Linear Regression Model"
   ]
  },
  {
   "cell_type": "code",
   "execution_count": 37,
   "metadata": {
    "colab": {},
    "colab_type": "code",
    "id": "KRbLZGfoqI0C"
   },
   "outputs": [
    {
     "name": "stdout",
     "output_type": "stream",
     "text": [
      "\n",
      "Model Report\n",
      "RMSE : 21.68\n",
      "CV Score : Mean - 20.29 | Std - 7.665 | Min - 12.11 | Max - 40.83\n"
     ]
    }
   ],
   "source": [
    "from sklearn.linear_model import LinearRegression\n",
    "LR = LinearRegression(normalize=True)\n",
    "predictors = train.columns.drop(['demand_projection'])\n",
    "modelfit(LR, train, test, predictors, target, IDcol, 'D:/PHD Submission folders/LR.csv')"
   ]
  },
  {
   "cell_type": "code",
   "execution_count": 38,
   "metadata": {
    "colab": {},
    "colab_type": "code",
    "id": "Zrd-UbnXqI0r"
   },
   "outputs": [
    {
     "data": {
      "text/html": [
       "<div>\n",
       "<style scoped>\n",
       "    .dataframe tbody tr th:only-of-type {\n",
       "        vertical-align: middle;\n",
       "    }\n",
       "\n",
       "    .dataframe tbody tr th {\n",
       "        vertical-align: top;\n",
       "    }\n",
       "\n",
       "    .dataframe thead th {\n",
       "        text-align: right;\n",
       "    }\n",
       "</style>\n",
       "<table border=\"1\" class=\"dataframe\">\n",
       "  <thead>\n",
       "    <tr style=\"text-align: right;\">\n",
       "      <th></th>\n",
       "      <th>experiment_week</th>\n",
       "      <th>channel_type</th>\n",
       "      <th>supplier_identifier</th>\n",
       "      <th>category_of_route</th>\n",
       "      <th>store_identifier</th>\n",
       "      <th>product_identifier</th>\n",
       "      <th>demand_projection</th>\n",
       "    </tr>\n",
       "  </thead>\n",
       "  <tbody>\n",
       "    <tr>\n",
       "      <th>0</th>\n",
       "      <td>0</td>\n",
       "      <td>7</td>\n",
       "      <td>12</td>\n",
       "      <td>1178</td>\n",
       "      <td>556783</td>\n",
       "      <td>1302</td>\n",
       "      <td>-3.783393</td>\n",
       "    </tr>\n",
       "    <tr>\n",
       "      <th>1</th>\n",
       "      <td>0</td>\n",
       "      <td>7</td>\n",
       "      <td>12</td>\n",
       "      <td>1178</td>\n",
       "      <td>556783</td>\n",
       "      <td>261</td>\n",
       "      <td>-5.892036</td>\n",
       "    </tr>\n",
       "    <tr>\n",
       "      <th>2</th>\n",
       "      <td>0</td>\n",
       "      <td>7</td>\n",
       "      <td>12</td>\n",
       "      <td>1178</td>\n",
       "      <td>556783</td>\n",
       "      <td>1580</td>\n",
       "      <td>-3.220277</td>\n",
       "    </tr>\n",
       "    <tr>\n",
       "      <th>3</th>\n",
       "      <td>0</td>\n",
       "      <td>7</td>\n",
       "      <td>12</td>\n",
       "      <td>1178</td>\n",
       "      <td>556783</td>\n",
       "      <td>940</td>\n",
       "      <td>-4.516658</td>\n",
       "    </tr>\n",
       "    <tr>\n",
       "      <th>4</th>\n",
       "      <td>0</td>\n",
       "      <td>7</td>\n",
       "      <td>12</td>\n",
       "      <td>1178</td>\n",
       "      <td>556783</td>\n",
       "      <td>163</td>\n",
       "      <td>-6.090544</td>\n",
       "    </tr>\n",
       "  </tbody>\n",
       "</table>\n",
       "</div>"
      ],
      "text/plain": [
       "   experiment_week  channel_type  supplier_identifier  category_of_route  \\\n",
       "0                0             7                   12               1178   \n",
       "1                0             7                   12               1178   \n",
       "2                0             7                   12               1178   \n",
       "3                0             7                   12               1178   \n",
       "4                0             7                   12               1178   \n",
       "\n",
       "   store_identifier  product_identifier  demand_projection  \n",
       "0            556783                1302          -3.783393  \n",
       "1            556783                 261          -5.892036  \n",
       "2            556783                1580          -3.220277  \n",
       "3            556783                 940          -4.516658  \n",
       "4            556783                 163          -6.090544  "
      ]
     },
     "execution_count": 38,
     "metadata": {},
     "output_type": "execute_result"
    }
   ],
   "source": [
    "test.head()"
   ]
  },
  {
   "cell_type": "markdown",
   "metadata": {
    "colab_type": "text",
    "id": "zpbAsgz6qI0s"
   },
   "source": [
    "# Ridge Regression Model"
   ]
  },
  {
   "cell_type": "code",
   "execution_count": 39,
   "metadata": {
    "colab": {},
    "colab_type": "code",
    "id": "q0577j_8qI0s"
   },
   "outputs": [
    {
     "name": "stdout",
     "output_type": "stream",
     "text": [
      "\n",
      "Model Report\n",
      "RMSE : 21.68\n",
      "CV Score : Mean - 20.29 | Std - 7.665 | Min - 12.11 | Max - 40.83\n"
     ]
    }
   ],
   "source": [
    "from sklearn.linear_model import Ridge\n",
    "RR = Ridge(alpha=0.05,normalize=True)\n",
    "modelfit(RR, train, test, predictors, target, IDcol, 'D:/PHD Submission folders/RR.csv')"
   ]
  },
  {
   "cell_type": "code",
   "execution_count": 40,
   "metadata": {
    "colab": {},
    "colab_type": "code",
    "id": "--xBVi77qI0t"
   },
   "outputs": [
    {
     "data": {
      "text/html": [
       "<div>\n",
       "<style scoped>\n",
       "    .dataframe tbody tr th:only-of-type {\n",
       "        vertical-align: middle;\n",
       "    }\n",
       "\n",
       "    .dataframe tbody tr th {\n",
       "        vertical-align: top;\n",
       "    }\n",
       "\n",
       "    .dataframe thead th {\n",
       "        text-align: right;\n",
       "    }\n",
       "</style>\n",
       "<table border=\"1\" class=\"dataframe\">\n",
       "  <thead>\n",
       "    <tr style=\"text-align: right;\">\n",
       "      <th></th>\n",
       "      <th>experiment_week</th>\n",
       "      <th>channel_type</th>\n",
       "      <th>supplier_identifier</th>\n",
       "      <th>category_of_route</th>\n",
       "      <th>store_identifier</th>\n",
       "      <th>product_identifier</th>\n",
       "      <th>demand_projection</th>\n",
       "    </tr>\n",
       "  </thead>\n",
       "  <tbody>\n",
       "    <tr>\n",
       "      <th>0</th>\n",
       "      <td>0</td>\n",
       "      <td>7</td>\n",
       "      <td>12</td>\n",
       "      <td>1178</td>\n",
       "      <td>556783</td>\n",
       "      <td>1302</td>\n",
       "      <td>-3.230866</td>\n",
       "    </tr>\n",
       "    <tr>\n",
       "      <th>1</th>\n",
       "      <td>0</td>\n",
       "      <td>7</td>\n",
       "      <td>12</td>\n",
       "      <td>1178</td>\n",
       "      <td>556783</td>\n",
       "      <td>261</td>\n",
       "      <td>-5.237719</td>\n",
       "    </tr>\n",
       "    <tr>\n",
       "      <th>2</th>\n",
       "      <td>0</td>\n",
       "      <td>7</td>\n",
       "      <td>12</td>\n",
       "      <td>1178</td>\n",
       "      <td>556783</td>\n",
       "      <td>1580</td>\n",
       "      <td>-2.694934</td>\n",
       "    </tr>\n",
       "    <tr>\n",
       "      <th>3</th>\n",
       "      <td>0</td>\n",
       "      <td>7</td>\n",
       "      <td>12</td>\n",
       "      <td>1178</td>\n",
       "      <td>556783</td>\n",
       "      <td>940</td>\n",
       "      <td>-3.928734</td>\n",
       "    </tr>\n",
       "    <tr>\n",
       "      <th>4</th>\n",
       "      <td>0</td>\n",
       "      <td>7</td>\n",
       "      <td>12</td>\n",
       "      <td>1178</td>\n",
       "      <td>556783</td>\n",
       "      <td>163</td>\n",
       "      <td>-5.426645</td>\n",
       "    </tr>\n",
       "  </tbody>\n",
       "</table>\n",
       "</div>"
      ],
      "text/plain": [
       "   experiment_week  channel_type  supplier_identifier  category_of_route  \\\n",
       "0                0             7                   12               1178   \n",
       "1                0             7                   12               1178   \n",
       "2                0             7                   12               1178   \n",
       "3                0             7                   12               1178   \n",
       "4                0             7                   12               1178   \n",
       "\n",
       "   store_identifier  product_identifier  demand_projection  \n",
       "0            556783                1302          -3.230866  \n",
       "1            556783                 261          -5.237719  \n",
       "2            556783                1580          -2.694934  \n",
       "3            556783                 940          -3.928734  \n",
       "4            556783                 163          -5.426645  "
      ]
     },
     "execution_count": 40,
     "metadata": {},
     "output_type": "execute_result"
    }
   ],
   "source": [
    "test.head()"
   ]
  },
  {
   "cell_type": "markdown",
   "metadata": {
    "colab_type": "text",
    "id": "RXcc7gBgqI0u"
   },
   "source": [
    "# Decision Tree Model"
   ]
  },
  {
   "cell_type": "code",
   "execution_count": 41,
   "metadata": {
    "colab": {},
    "colab_type": "code",
    "id": "HgjqXH3bqI0u"
   },
   "outputs": [
    {
     "name": "stdout",
     "output_type": "stream",
     "text": [
      "\n",
      "Model Report\n",
      "RMSE : 19.39\n",
      "CV Score : Mean - 18.14 | Std - 7.724 | Min - 10.21 | Max - 39.37\n"
     ]
    }
   ],
   "source": [
    "from sklearn.tree import DecisionTreeRegressor\n",
    "DT = DecisionTreeRegressor(max_depth=15, min_samples_leaf=100)\n",
    "modelfit(DT, train, test, predictors, target, IDcol, 'D:/PHD Submission folders/DT.csv')"
   ]
  },
  {
   "cell_type": "code",
   "execution_count": 42,
   "metadata": {
    "colab": {},
    "colab_type": "code",
    "id": "sCTs-vbPqI0v"
   },
   "outputs": [
    {
     "data": {
      "text/html": [
       "<div>\n",
       "<style scoped>\n",
       "    .dataframe tbody tr th:only-of-type {\n",
       "        vertical-align: middle;\n",
       "    }\n",
       "\n",
       "    .dataframe tbody tr th {\n",
       "        vertical-align: top;\n",
       "    }\n",
       "\n",
       "    .dataframe thead th {\n",
       "        text-align: right;\n",
       "    }\n",
       "</style>\n",
       "<table border=\"1\" class=\"dataframe\">\n",
       "  <thead>\n",
       "    <tr style=\"text-align: right;\">\n",
       "      <th></th>\n",
       "      <th>experiment_week</th>\n",
       "      <th>channel_type</th>\n",
       "      <th>supplier_identifier</th>\n",
       "      <th>category_of_route</th>\n",
       "      <th>store_identifier</th>\n",
       "      <th>product_identifier</th>\n",
       "      <th>demand_projection</th>\n",
       "    </tr>\n",
       "  </thead>\n",
       "  <tbody>\n",
       "    <tr>\n",
       "      <th>0</th>\n",
       "      <td>0</td>\n",
       "      <td>7</td>\n",
       "      <td>12</td>\n",
       "      <td>1178</td>\n",
       "      <td>556783</td>\n",
       "      <td>1302</td>\n",
       "      <td>9.137255</td>\n",
       "    </tr>\n",
       "    <tr>\n",
       "      <th>1</th>\n",
       "      <td>0</td>\n",
       "      <td>7</td>\n",
       "      <td>12</td>\n",
       "      <td>1178</td>\n",
       "      <td>556783</td>\n",
       "      <td>261</td>\n",
       "      <td>15.729167</td>\n",
       "    </tr>\n",
       "    <tr>\n",
       "      <th>2</th>\n",
       "      <td>0</td>\n",
       "      <td>7</td>\n",
       "      <td>12</td>\n",
       "      <td>1178</td>\n",
       "      <td>556783</td>\n",
       "      <td>1580</td>\n",
       "      <td>9.137255</td>\n",
       "    </tr>\n",
       "    <tr>\n",
       "      <th>3</th>\n",
       "      <td>0</td>\n",
       "      <td>7</td>\n",
       "      <td>12</td>\n",
       "      <td>1178</td>\n",
       "      <td>556783</td>\n",
       "      <td>940</td>\n",
       "      <td>9.137255</td>\n",
       "    </tr>\n",
       "    <tr>\n",
       "      <th>4</th>\n",
       "      <td>0</td>\n",
       "      <td>7</td>\n",
       "      <td>12</td>\n",
       "      <td>1178</td>\n",
       "      <td>556783</td>\n",
       "      <td>163</td>\n",
       "      <td>15.729167</td>\n",
       "    </tr>\n",
       "  </tbody>\n",
       "</table>\n",
       "</div>"
      ],
      "text/plain": [
       "   experiment_week  channel_type  supplier_identifier  category_of_route  \\\n",
       "0                0             7                   12               1178   \n",
       "1                0             7                   12               1178   \n",
       "2                0             7                   12               1178   \n",
       "3                0             7                   12               1178   \n",
       "4                0             7                   12               1178   \n",
       "\n",
       "   store_identifier  product_identifier  demand_projection  \n",
       "0            556783                1302           9.137255  \n",
       "1            556783                 261          15.729167  \n",
       "2            556783                1580           9.137255  \n",
       "3            556783                 940           9.137255  \n",
       "4            556783                 163          15.729167  "
      ]
     },
     "execution_count": 42,
     "metadata": {},
     "output_type": "execute_result"
    }
   ],
   "source": [
    "test.head()"
   ]
  },
  {
   "cell_type": "markdown",
   "metadata": {
    "colab_type": "text",
    "id": "7aWAwI_NqI0v"
   },
   "source": [
    "# Random Forrest Model"
   ]
  },
  {
   "cell_type": "code",
   "execution_count": 43,
   "metadata": {
    "colab": {},
    "colab_type": "code",
    "id": "YMQ3v1q6qI0w"
   },
   "outputs": [
    {
     "name": "stdout",
     "output_type": "stream",
     "text": [
      "\n",
      "Model Report\n",
      "RMSE : 19.71\n",
      "CV Score : Mean - 18.37 | Std - 7.764 | Min - 10.44 | Max - 39.46\n"
     ]
    }
   ],
   "source": [
    "RF = DecisionTreeRegressor(max_depth=8, min_samples_leaf=150)\n",
    "modelfit(RF, train, test, predictors, target, IDcol, 'D:/PHD Submission folders/RF.csv')"
   ]
  },
  {
   "cell_type": "code",
   "execution_count": 44,
   "metadata": {
    "colab": {},
    "colab_type": "code",
    "id": "QzULGbU0qI0x"
   },
   "outputs": [
    {
     "data": {
      "text/html": [
       "<div>\n",
       "<style scoped>\n",
       "    .dataframe tbody tr th:only-of-type {\n",
       "        vertical-align: middle;\n",
       "    }\n",
       "\n",
       "    .dataframe tbody tr th {\n",
       "        vertical-align: top;\n",
       "    }\n",
       "\n",
       "    .dataframe thead th {\n",
       "        text-align: right;\n",
       "    }\n",
       "</style>\n",
       "<table border=\"1\" class=\"dataframe\">\n",
       "  <thead>\n",
       "    <tr style=\"text-align: right;\">\n",
       "      <th></th>\n",
       "      <th>experiment_week</th>\n",
       "      <th>channel_type</th>\n",
       "      <th>supplier_identifier</th>\n",
       "      <th>category_of_route</th>\n",
       "      <th>store_identifier</th>\n",
       "      <th>product_identifier</th>\n",
       "      <th>demand_projection</th>\n",
       "    </tr>\n",
       "  </thead>\n",
       "  <tbody>\n",
       "    <tr>\n",
       "      <th>0</th>\n",
       "      <td>0</td>\n",
       "      <td>7</td>\n",
       "      <td>12</td>\n",
       "      <td>1178</td>\n",
       "      <td>556783</td>\n",
       "      <td>1302</td>\n",
       "      <td>7.985185</td>\n",
       "    </tr>\n",
       "    <tr>\n",
       "      <th>1</th>\n",
       "      <td>0</td>\n",
       "      <td>7</td>\n",
       "      <td>12</td>\n",
       "      <td>1178</td>\n",
       "      <td>556783</td>\n",
       "      <td>261</td>\n",
       "      <td>11.346667</td>\n",
       "    </tr>\n",
       "    <tr>\n",
       "      <th>2</th>\n",
       "      <td>0</td>\n",
       "      <td>7</td>\n",
       "      <td>12</td>\n",
       "      <td>1178</td>\n",
       "      <td>556783</td>\n",
       "      <td>1580</td>\n",
       "      <td>7.985185</td>\n",
       "    </tr>\n",
       "    <tr>\n",
       "      <th>3</th>\n",
       "      <td>0</td>\n",
       "      <td>7</td>\n",
       "      <td>12</td>\n",
       "      <td>1178</td>\n",
       "      <td>556783</td>\n",
       "      <td>940</td>\n",
       "      <td>7.985185</td>\n",
       "    </tr>\n",
       "    <tr>\n",
       "      <th>4</th>\n",
       "      <td>0</td>\n",
       "      <td>7</td>\n",
       "      <td>12</td>\n",
       "      <td>1178</td>\n",
       "      <td>556783</td>\n",
       "      <td>163</td>\n",
       "      <td>11.346667</td>\n",
       "    </tr>\n",
       "  </tbody>\n",
       "</table>\n",
       "</div>"
      ],
      "text/plain": [
       "   experiment_week  channel_type  supplier_identifier  category_of_route  \\\n",
       "0                0             7                   12               1178   \n",
       "1                0             7                   12               1178   \n",
       "2                0             7                   12               1178   \n",
       "3                0             7                   12               1178   \n",
       "4                0             7                   12               1178   \n",
       "\n",
       "   store_identifier  product_identifier  demand_projection  \n",
       "0            556783                1302           7.985185  \n",
       "1            556783                 261          11.346667  \n",
       "2            556783                1580           7.985185  \n",
       "3            556783                 940           7.985185  \n",
       "4            556783                 163          11.346667  "
      ]
     },
     "execution_count": 44,
     "metadata": {},
     "output_type": "execute_result"
    }
   ],
   "source": [
    "test.head()"
   ]
  },
  {
   "cell_type": "markdown",
   "metadata": {
    "colab_type": "text",
    "id": "xWRWZFU6qI0y"
   },
   "source": [
    "# XGBoost Model"
   ]
  },
  {
   "cell_type": "code",
   "execution_count": 45,
   "metadata": {
    "colab": {},
    "colab_type": "code",
    "id": "rxMdeiFEqI0z"
   },
   "outputs": [
    {
     "name": "stdout",
     "output_type": "stream",
     "text": [
      "[19:56:12] WARNING: C:/Jenkins/workspace/xgboost-win64_release_0.90/src/objective/regression_obj.cu:152: reg:linear is now deprecated in favor of reg:squarederror.\n"
     ]
    },
    {
     "data": {
      "text/plain": [
       "XGBRegressor(base_score=0.5, booster='gbtree', colsample_bylevel=1,\n",
       "             colsample_bynode=1, colsample_bytree=1, gamma=0,\n",
       "             importance_type='gain', learning_rate=0.05, max_delta_step=0,\n",
       "             max_depth=3, min_child_weight=1, missing=None, n_estimators=1000,\n",
       "             n_jobs=1, nthread=None, objective='reg:linear', random_state=0,\n",
       "             reg_alpha=0, reg_lambda=1, scale_pos_weight=1, seed=None,\n",
       "             silent=None, subsample=1, verbosity=1)"
      ]
     },
     "execution_count": 45,
     "metadata": {},
     "output_type": "execute_result"
    }
   ],
   "source": [
    "from xgboost import XGBRegressor\n",
    "my_model = XGBRegressor(n_estimators=1000, learning_rate=0.05)\n",
    "my_model.fit(train[predictors], train[target], early_stopping_rounds=5, \n",
    "             eval_set=[(test[predictors], test[target])], verbose=False) "
   ]
  },
  {
   "cell_type": "code",
   "execution_count": 46,
   "metadata": {
    "colab": {},
    "colab_type": "code",
    "id": "OrYKFgPxqI0z"
   },
   "outputs": [
    {
     "name": "stdout",
     "output_type": "stream",
     "text": [
      "Mean Absolute Error : 11.358518819721139\n",
      "RMSE : 22.44\n"
     ]
    }
   ],
   "source": [
    "#Predict training set:\n",
    "train_df_predictions = my_model.predict(train[predictors])\n",
    "# make predictions\n",
    "predictions = my_model.predict(test[predictors])\n",
    "from sklearn.metrics import mean_absolute_error\n",
    "print(\"Mean Absolute Error : \" + str(mean_absolute_error(predictions, test[target])))\n",
    "print(\"RMSE : %.4g\" % np.sqrt(metrics.mean_squared_error((train[target]).values, train_df_predictions)))\n",
    "#IDcol.append(target)\n",
    "   # submission = pd.DataFrame({ x: test_df[x] for x in IDcol})\n",
    "   # submission.to_csv(\"merda.csv\", index=False)            # xgboost continuation"
   ]
  },
  {
   "cell_type": "code",
   "execution_count": 47,
   "metadata": {
    "colab": {},
    "colab_type": "code",
    "id": "UDD8fF8dqI00"
   },
   "outputs": [],
   "source": [
    "sub = pd.DataFrame()\n",
    "sub['id'] = test_ID\n",
    "sub['demand_projection'] = test[target]\n",
    "sub.to_csv('D:/PHD Submission folders/XGboost.csv', index=False)"
   ]
  },
  {
   "cell_type": "code",
   "execution_count": 48,
   "metadata": {
    "colab": {},
    "colab_type": "code",
    "id": "DVZqZV7JqI00"
   },
   "outputs": [
    {
     "data": {
      "text/html": [
       "<div>\n",
       "<style scoped>\n",
       "    .dataframe tbody tr th:only-of-type {\n",
       "        vertical-align: middle;\n",
       "    }\n",
       "\n",
       "    .dataframe tbody tr th {\n",
       "        vertical-align: top;\n",
       "    }\n",
       "\n",
       "    .dataframe thead th {\n",
       "        text-align: right;\n",
       "    }\n",
       "</style>\n",
       "<table border=\"1\" class=\"dataframe\">\n",
       "  <thead>\n",
       "    <tr style=\"text-align: right;\">\n",
       "      <th></th>\n",
       "      <th>experiment_week</th>\n",
       "      <th>channel_type</th>\n",
       "      <th>supplier_identifier</th>\n",
       "      <th>category_of_route</th>\n",
       "      <th>store_identifier</th>\n",
       "      <th>product_identifier</th>\n",
       "      <th>demand_projection</th>\n",
       "    </tr>\n",
       "  </thead>\n",
       "  <tbody>\n",
       "    <tr>\n",
       "      <th>0</th>\n",
       "      <td>0</td>\n",
       "      <td>7</td>\n",
       "      <td>12</td>\n",
       "      <td>1178</td>\n",
       "      <td>556783</td>\n",
       "      <td>1302</td>\n",
       "      <td>7.985185</td>\n",
       "    </tr>\n",
       "    <tr>\n",
       "      <th>1</th>\n",
       "      <td>0</td>\n",
       "      <td>7</td>\n",
       "      <td>12</td>\n",
       "      <td>1178</td>\n",
       "      <td>556783</td>\n",
       "      <td>261</td>\n",
       "      <td>11.346667</td>\n",
       "    </tr>\n",
       "    <tr>\n",
       "      <th>2</th>\n",
       "      <td>0</td>\n",
       "      <td>7</td>\n",
       "      <td>12</td>\n",
       "      <td>1178</td>\n",
       "      <td>556783</td>\n",
       "      <td>1580</td>\n",
       "      <td>7.985185</td>\n",
       "    </tr>\n",
       "    <tr>\n",
       "      <th>3</th>\n",
       "      <td>0</td>\n",
       "      <td>7</td>\n",
       "      <td>12</td>\n",
       "      <td>1178</td>\n",
       "      <td>556783</td>\n",
       "      <td>940</td>\n",
       "      <td>7.985185</td>\n",
       "    </tr>\n",
       "    <tr>\n",
       "      <th>4</th>\n",
       "      <td>0</td>\n",
       "      <td>7</td>\n",
       "      <td>12</td>\n",
       "      <td>1178</td>\n",
       "      <td>556783</td>\n",
       "      <td>163</td>\n",
       "      <td>11.346667</td>\n",
       "    </tr>\n",
       "  </tbody>\n",
       "</table>\n",
       "</div>"
      ],
      "text/plain": [
       "   experiment_week  channel_type  supplier_identifier  category_of_route  \\\n",
       "0                0             7                   12               1178   \n",
       "1                0             7                   12               1178   \n",
       "2                0             7                   12               1178   \n",
       "3                0             7                   12               1178   \n",
       "4                0             7                   12               1178   \n",
       "\n",
       "   store_identifier  product_identifier  demand_projection  \n",
       "0            556783                1302           7.985185  \n",
       "1            556783                 261          11.346667  \n",
       "2            556783                1580           7.985185  \n",
       "3            556783                 940           7.985185  \n",
       "4            556783                 163          11.346667  "
      ]
     },
     "execution_count": 48,
     "metadata": {},
     "output_type": "execute_result"
    }
   ],
   "source": [
    "test.head()"
   ]
  }
 ],
 "metadata": {
  "colab": {
   "machine_shape": "hm",
   "name": "Shashidhar_R(Enroll_ID3173)_Modeling (1).ipynb",
   "provenance": []
  },
  "kernelspec": {
   "display_name": "Python 3",
   "language": "python",
   "name": "python3"
  },
  "language_info": {
   "codemirror_mode": {
    "name": "ipython",
    "version": 3
   },
   "file_extension": ".py",
   "mimetype": "text/x-python",
   "name": "python",
   "nbconvert_exporter": "python",
   "pygments_lexer": "ipython3",
   "version": "3.7.3"
  }
 },
 "nbformat": 4,
 "nbformat_minor": 1
}
